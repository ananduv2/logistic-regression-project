{
 "cells": [
  {
   "cell_type": "code",
   "execution_count": 7,
   "metadata": {},
   "outputs": [
    {
     "name": "stdout",
     "output_type": "stream",
     "text": [
      "Requirement already satisfied: Flask in c:\\users\\asus\\anaconda3\\lib\\site-packages (1.1.1)\n",
      "Requirement already satisfied: Jinja2>=2.10.1 in c:\\users\\asus\\anaconda3\\lib\\site-packages (from Flask) (2.11.1)\n",
      "Requirement already satisfied: Werkzeug>=0.15 in c:\\users\\asus\\anaconda3\\lib\\site-packages (from Flask) (1.0.0)\n",
      "Requirement already satisfied: itsdangerous>=0.24 in c:\\users\\asus\\anaconda3\\lib\\site-packages (from Flask) (1.1.0)\n",
      "Requirement already satisfied: click>=5.1 in c:\\users\\asus\\anaconda3\\lib\\site-packages (from Flask) (7.0)\n",
      "Requirement already satisfied: MarkupSafe>=0.23 in c:\\users\\asus\\anaconda3\\lib\\site-packages (from Jinja2>=2.10.1->Flask) (1.1.1)\n",
      "Note: you may need to restart the kernel to use updated packages.\n"
     ]
    }
   ],
   "source": [
    "pip install Flask"
   ]
  },
  {
   "cell_type": "code",
   "execution_count": null,
   "metadata": {},
   "outputs": [
    {
     "name": "stdout",
     "output_type": "stream",
     "text": [
      " * Serving Flask app \"__main__\" (lazy loading)\n",
      " * Environment: production\n",
      "   WARNING: This is a development server. Do not use it in a production deployment.\n",
      "   Use a production WSGI server instead.\n",
      " * Debug mode: off\n"
     ]
    },
    {
     "name": "stderr",
     "output_type": "stream",
     "text": [
      " * Running on http://127.0.0.1:5000/ (Press CTRL+C to quit)\n",
      "127.0.0.1 - - [09/Jan/2021 10:23:18] \"\u001b[37mGET / HTTP/1.1\u001b[0m\" 200 -\n",
      "127.0.0.1 - - [09/Jan/2021 10:23:18] \"\u001b[37mGET /static/vendor/mdi-font/css/material-design-iconic-font.min.css HTTP/1.1\u001b[0m\" 200 -\n",
      "127.0.0.1 - - [09/Jan/2021 10:23:18] \"\u001b[37mGET /static/vendor/font-awesome-4.7/css/font-awesome.min.css HTTP/1.1\u001b[0m\" 200 -\n",
      "127.0.0.1 - - [09/Jan/2021 10:23:18] \"\u001b[37mGET /static/vendor/select2/select2.min.css HTTP/1.1\u001b[0m\" 200 -\n",
      "127.0.0.1 - - [09/Jan/2021 10:23:18] \"\u001b[37mGET /static/vendor/datepicker/daterangepicker.css HTTP/1.1\u001b[0m\" 200 -\n",
      "127.0.0.1 - - [09/Jan/2021 10:23:18] \"\u001b[37mGET /static/css/main.css HTTP/1.1\u001b[0m\" 200 -\n",
      "127.0.0.1 - - [09/Jan/2021 10:23:18] \"\u001b[37mGET /static/vendor/jquery/jquery.min.js HTTP/1.1\u001b[0m\" 200 -\n",
      "127.0.0.1 - - [09/Jan/2021 10:23:18] \"\u001b[37mGET /static/vendor/select2/select2.min.js HTTP/1.1\u001b[0m\" 200 -\n",
      "127.0.0.1 - - [09/Jan/2021 10:23:18] \"\u001b[37mGET /static/vendor/datepicker/moment.min.js HTTP/1.1\u001b[0m\" 200 -\n",
      "127.0.0.1 - - [09/Jan/2021 10:23:18] \"\u001b[37mGET /static/vendor/datepicker/daterangepicker.js HTTP/1.1\u001b[0m\" 200 -\n",
      "127.0.0.1 - - [09/Jan/2021 10:23:18] \"\u001b[37mGET /static/js/global.js HTTP/1.1\u001b[0m\" 200 -\n",
      "127.0.0.1 - - [09/Jan/2021 10:23:18] \"\u001b[37mGET /static/images/diabetes.jpg HTTP/1.1\u001b[0m\" 200 -\n",
      "127.0.0.1 - - [09/Jan/2021 10:23:18] \"\u001b[37mGET /static/images/bg-head-02.jpg HTTP/1.1\u001b[0m\" 200 -\n",
      "127.0.0.1 - - [09/Jan/2021 10:23:18] \"\u001b[37mGET /static/vendor/mdi-font/fonts/Material-Design-Iconic-Font.woff2?v=2.2.0 HTTP/1.1\u001b[0m\" 200 -\n",
      "127.0.0.1 - - [09/Jan/2021 10:23:18] \"\u001b[33mGET /favicon.ico HTTP/1.1\u001b[0m\" 404 -\n"
     ]
    }
   ],
   "source": [
    "from flask import Flask, render_template, flash, request\n",
    "from get_model import *\n",
    "\n",
    "#initializing the model\n",
    "MODEL_PATH = \"models/logistic_reg.sav\"\n",
    "model = LoadModel(MODEL_PATH)\n",
    "\n",
    "# App config.\n",
    "DEBUG = True\n",
    "app = Flask(__name__)\n",
    "app.config.from_object(__name__)\n",
    "app.config['SECRET_KEY'] = '7d441f27d441f27567d441f2b6176a'\n",
    "\n",
    "#Define home route\n",
    "@app.route(\"/\")\n",
    "def index():\n",
    "    return render_template(\"index.html\")\n",
    "\n",
    "#Define diagnosis route\n",
    "@app.route(\"/diagnosis\", methods=['POST'])\n",
    "def diagnosis():\n",
    "    name = request.form['name']\n",
    "    age = request.form['age']\n",
    "    pregnant = request.form['pregnant']\n",
    "    insulin = request.form['insulin']\n",
    "    bmi = request.form['bmi']\n",
    "    pedigree = request.form['pedigree']\n",
    "    glucose = request.form['glucose']\n",
    "    bp = request.form['bp']\n",
    "    #Predict on the given parameters\n",
    "    prediction = model.predict_class(pregnant,insulin,bmi,age,glucose,bp,pedigree)\n",
    "    print(prediction)\n",
    "    #Route for result\n",
    "    if prediction[0] == '1':\n",
    "        return render_template(\"positive.html\", result=\"true\")\n",
    "    elif prediction[0] == '0':\n",
    "        return render_template(\"negetive.html\", result=\"true\")\n",
    "        \n",
    "if __name__ == \"__main__\":\n",
    "    app.run(debug=False)"
   ]
  },
  {
   "cell_type": "code",
   "execution_count": 2,
   "metadata": {},
   "outputs": [],
   "source": [
    "exit"
   ]
  },
  {
   "cell_type": "code",
   "execution_count": null,
   "metadata": {},
   "outputs": [],
   "source": []
  }
 ],
 "metadata": {
  "kernelspec": {
   "display_name": "Python 3",
   "language": "python",
   "name": "python3"
  },
  "language_info": {
   "codemirror_mode": {
    "name": "ipython",
    "version": 3
   },
   "file_extension": ".py",
   "mimetype": "text/x-python",
   "name": "python",
   "nbconvert_exporter": "python",
   "pygments_lexer": "ipython3",
   "version": "3.7.6"
  }
 },
 "nbformat": 4,
 "nbformat_minor": 4
}
