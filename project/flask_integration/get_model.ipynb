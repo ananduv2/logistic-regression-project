{
 "cells": [
  {
   "cell_type": "code",
   "execution_count": 1,
   "metadata": {},
   "outputs": [
    {
     "name": "stdout",
     "output_type": "stream",
     "text": [
      "['1']\n"
     ]
    }
   ],
   "source": [
    "import pickle\n",
    "import pandas as pd\n",
    "\n",
    "class LoadModel:\n",
    "    #Loading the model\n",
    "    def __init__(self,MODEL_PATH):\n",
    "        self.loaded_model = pickle.load(open(MODEL_PATH, 'rb'))\n",
    "\n",
    "    def predict_class(self, pregnant,insulin,bmi,age,glucose,bp,pedigree):\n",
    "        # initialize list of lists \n",
    "        data = [[pregnant,insulin,bmi,age,glucose,bp,pedigree]] \n",
    "        \n",
    "        # Create the pandas DataFrame \n",
    "        df = pd.DataFrame(data, columns = ['pregnant','insulin','bmi','age','glucose','bp','pedigree']) \n",
    "        new_pred = self.loaded_model.predict(df)\n",
    "        return new_pred\n",
    "\n",
    "#Test LoadMode\n",
    "if __name__ == '__main__':\n",
    "    MODEL_PATH = \"models/logistic_reg.sav\"\n",
    "    model = LoadModel(MODEL_PATH)\n",
    "    predicted_class = model.predict_class(6, 0, 33.6, 50, 148, 72, 0.627)\n",
    "    print(predicted_class)\n",
    "\n"
   ]
  },
  {
   "cell_type": "code",
   "execution_count": null,
   "metadata": {},
   "outputs": [],
   "source": []
  },
  {
   "cell_type": "code",
   "execution_count": null,
   "metadata": {},
   "outputs": [],
   "source": []
  }
 ],
 "metadata": {
  "kernelspec": {
   "display_name": "Python 3",
   "language": "python",
   "name": "python3"
  },
  "language_info": {
   "codemirror_mode": {
    "name": "ipython",
    "version": 3
   },
   "file_extension": ".py",
   "mimetype": "text/x-python",
   "name": "python",
   "nbconvert_exporter": "python",
   "pygments_lexer": "ipython3",
   "version": "3.7.6"
  }
 },
 "nbformat": 4,
 "nbformat_minor": 4
}
